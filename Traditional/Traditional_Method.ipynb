{
 "cells": [
  {
   "cell_type": "code",
   "execution_count": 1,
   "metadata": {},
   "outputs": [
    {
     "data": {
      "text/html": [
       "<div>\n",
       "<style scoped>\n",
       "    .dataframe tbody tr th:only-of-type {\n",
       "        vertical-align: middle;\n",
       "    }\n",
       "\n",
       "    .dataframe tbody tr th {\n",
       "        vertical-align: top;\n",
       "    }\n",
       "\n",
       "    .dataframe thead th {\n",
       "        text-align: right;\n",
       "    }\n",
       "</style>\n",
       "<table border=\"1\" class=\"dataframe\">\n",
       "  <thead>\n",
       "    <tr style=\"text-align: right;\">\n",
       "      <th></th>\n",
       "      <th>polarity_human</th>\n",
       "      <th>content</th>\n",
       "    </tr>\n",
       "  </thead>\n",
       "  <tbody>\n",
       "    <tr>\n",
       "      <th>0</th>\n",
       "      <td>-1.0</td>\n",
       "      <td>业绩变动的原因是公司订单较上年同期减少，2011年第一季度营业收入较上年同期减少约1696....</td>\n",
       "    </tr>\n",
       "    <tr>\n",
       "      <th>1</th>\n",
       "      <td>1.0</td>\n",
       "      <td>东方证券新进14只个股《证券日报》市场研究中心和WIND数据统计显示，截至4月14日，东方证...</td>\n",
       "    </tr>\n",
       "    <tr>\n",
       "      <th>3</th>\n",
       "      <td>1.0</td>\n",
       "      <td>数据显示，公司四季度的自营业务继续加大，去年第四季度对精工钢构、兔宝宝、东华科技、台基股份、...</td>\n",
       "    </tr>\n",
       "    <tr>\n",
       "      <th>4</th>\n",
       "      <td>1.0</td>\n",
       "      <td>其中，建发股份、精工钢构、东华科技、永新股份、晶源电子、金螳螂、福晶科技、兔宝宝、台基股份、...</td>\n",
       "    </tr>\n",
       "    <tr>\n",
       "      <th>5</th>\n",
       "      <td>1.0</td>\n",
       "      <td>而公司四季末对东华科技(23427.92万元)、金螳螂(20706.28万元)、海康威视(1...</td>\n",
       "    </tr>\n",
       "  </tbody>\n",
       "</table>\n",
       "</div>"
      ],
      "text/plain": [
       "   polarity_human                                            content\n",
       "0            -1.0  业绩变动的原因是公司订单较上年同期减少，2011年第一季度营业收入较上年同期减少约1696....\n",
       "1             1.0  东方证券新进14只个股《证券日报》市场研究中心和WIND数据统计显示，截至4月14日，东方证...\n",
       "3             1.0  数据显示，公司四季度的自营业务继续加大，去年第四季度对精工钢构、兔宝宝、东华科技、台基股份、...\n",
       "4             1.0  其中，建发股份、精工钢构、东华科技、永新股份、晶源电子、金螳螂、福晶科技、兔宝宝、台基股份、...\n",
       "5             1.0  而公司四季末对东华科技(23427.92万元)、金螳螂(20706.28万元)、海康威视(1..."
      ]
     },
     "execution_count": 1,
     "metadata": {},
     "output_type": "execute_result"
    }
   ],
   "source": [
    "import os\n",
    "import jieba\n",
    "import pandas as pd\n",
    "\n",
    "basic = os.getcwd().replace(\"/Traditional\", \"\")\n",
    "file_path = basic + \"/Data/简体30954条_3分类.csv\"\n",
    "data = pd.read_csv(file_path)\n",
    "data = data[data[\"polarity_human\"].isin([-1.0, 1.0])]\n",
    "data.head()"
   ]
  },
  {
   "cell_type": "code",
   "execution_count": 2,
   "metadata": {},
   "outputs": [],
   "source": [
    "# 加载情感词典\n",
    "negdict = set() # 消极情感词典\n",
    "posdict = set() # 积极情感词典\n",
    "nodict = set() # 否定词词典\n",
    "plusdict = set() # 程度副词词典\n",
    "\n",
    "sl = pd.read_csv(basic + '/Data/dict/neg.txt', header=None, encoding='utf-8')\n",
    "for i in range(len(sl[0])):\n",
    "    negdict.add(sl[0][i])\n",
    "sl = pd.read_csv(basic + '/Data/dict/pos.txt', header=None, encoding='utf-8')\n",
    "for i in range(len(sl[0])):\n",
    "    posdict.add(sl[0][i])\n",
    "sl = pd.read_csv(basic + '/Data/dict/no.txt', header=None, encoding='utf-8')\n",
    "for i in range(len(sl[0])):\n",
    "    nodict.add(sl[0][i])\n",
    "sl = pd.read_csv(basic + '/Data/dict/plus.txt', header=None, encoding='utf-8')\n",
    "for i in range(len(sl[0])):\n",
    "    plusdict.add(sl[0][i])"
   ]
  },
  {
   "cell_type": "code",
   "execution_count": 3,
   "metadata": {},
   "outputs": [],
   "source": [
    "# 预测函数\n",
    "def predict(s, negdict, posdict, nodict, plusdict):\n",
    "    p = 0\n",
    "    sd = list(jieba.cut(s))\n",
    "    for i in range(len(sd)):\n",
    "        if sd[i] in negdict:\n",
    "            if i > 0 and sd[i - 1] in nodict:\n",
    "                p += 1\n",
    "            elif i > 0 and sd[i - 1] in plusdict:\n",
    "                p -= 2\n",
    "            else: p -= 1\n",
    "        elif sd[i] in posdict:\n",
    "            if i > 0 and sd[i - 1] in nodict:\n",
    "                p -= 1\n",
    "            elif i > 0 and sd[i - 1] in plusdict:\n",
    "                p += 2\n",
    "            elif i > 0 and sd[i - 1] in negdict:\n",
    "                p -= 1\n",
    "            elif i < len(sd) - 1 and sd[i + 1] in negdict:\n",
    "                p -= 1\n",
    "            else: p += 1\n",
    "        elif sd[i] in nodict:\n",
    "            p -= 0.5\n",
    "    if p <= 0:\n",
    "        return -1.0\n",
    "    else:\n",
    "        return 1.0"
   ]
  },
  {
   "cell_type": "code",
   "execution_count": 4,
   "metadata": {},
   "outputs": [
    {
     "name": "stderr",
     "output_type": "stream",
     "text": [
      "Building prefix dict from the default dictionary ...\n",
      "Loading model from cache /var/folders/3b/wnl918tx4kj0flqblcc2_7500000gn/T/jieba.cache\n",
      "Loading model cost 0.676 seconds.\n",
      "Prefix dict has been built succesfully.\n"
     ]
    },
    {
     "data": {
      "text/plain": [
       "0.8087534305936732"
      ]
     },
     "execution_count": 4,
     "metadata": {},
     "output_type": "execute_result"
    }
   ],
   "source": [
    "correct = 0\n",
    "data['prediction'] = 0.0\n",
    "for i in data.index.tolist():\n",
    "    data.loc[i, 'prediction'] = predict(data.loc[i, \"content\"], negdict, posdict, nodict, plusdict)\n",
    "    if data.loc[i, 'prediction'] == data.loc[i, \"polarity_human\"]:\n",
    "        correct += 1\n",
    "correct / len(data)"
   ]
  },
  {
   "cell_type": "code",
   "execution_count": null,
   "metadata": {},
   "outputs": [],
   "source": []
  }
 ],
 "metadata": {
  "kernelspec": {
   "display_name": "Python 3",
   "language": "python",
   "name": "python3"
  },
  "language_info": {
   "codemirror_mode": {
    "name": "ipython",
    "version": 3
   },
   "file_extension": ".py",
   "mimetype": "text/x-python",
   "name": "python",
   "nbconvert_exporter": "python",
   "pygments_lexer": "ipython3",
   "version": "3.7.1"
  }
 },
 "nbformat": 4,
 "nbformat_minor": 2
}
