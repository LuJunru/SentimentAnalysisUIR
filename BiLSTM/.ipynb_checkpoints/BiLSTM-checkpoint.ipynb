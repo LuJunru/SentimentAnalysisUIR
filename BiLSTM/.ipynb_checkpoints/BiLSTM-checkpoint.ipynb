{
 "cells": [
  {
   "cell_type": "markdown",
   "metadata": {},
   "source": [
    "# 1. 数据生成"
   ]
  },
  {
   "cell_type": "code",
   "execution_count": 1,
   "metadata": {},
   "outputs": [],
   "source": [
    "import os\n",
    "import jieba\n",
    "import numpy as np\n",
    "import pandas as pd\n",
    "import matplotlib.pyplot as plt\n",
    "from sklearn.model_selection import train_test_split\n",
    "from gensim.models.word2vec import Word2Vec\n",
    "\n",
    "%matplotlib inline"
   ]
  },
  {
   "cell_type": "code",
   "execution_count": 2,
   "metadata": {},
   "outputs": [
    {
     "data": {
      "text/html": [
       "<div>\n",
       "<style scoped>\n",
       "    .dataframe tbody tr th:only-of-type {\n",
       "        vertical-align: middle;\n",
       "    }\n",
       "\n",
       "    .dataframe tbody tr th {\n",
       "        vertical-align: top;\n",
       "    }\n",
       "\n",
       "    .dataframe thead th {\n",
       "        text-align: right;\n",
       "    }\n",
       "</style>\n",
       "<table border=\"1\" class=\"dataframe\">\n",
       "  <thead>\n",
       "    <tr style=\"text-align: right;\">\n",
       "      <th></th>\n",
       "      <th>polarity_human</th>\n",
       "      <th>content</th>\n",
       "    </tr>\n",
       "  </thead>\n",
       "  <tbody>\n",
       "    <tr>\n",
       "      <th>744</th>\n",
       "      <td>1</td>\n",
       "      <td>通过一系列活动强化各部门的安全生产管理，重点抓好细节的管理。</td>\n",
       "    </tr>\n",
       "    <tr>\n",
       "      <th>30062</th>\n",
       "      <td>0</td>\n",
       "      <td>海外上市的网络游戏公司PE(市盈率)只有10倍左右，同样是中国概念网络企业，却普遍低于互联网...</td>\n",
       "    </tr>\n",
       "    <tr>\n",
       "      <th>19236</th>\n",
       "      <td>0</td>\n",
       "      <td>而同期上证指数下跌幅度仅为0.99%。</td>\n",
       "    </tr>\n",
       "    <tr>\n",
       "      <th>7238</th>\n",
       "      <td>0</td>\n",
       "      <td>(2)工艺技术风险导致长时间停车。</td>\n",
       "    </tr>\n",
       "    <tr>\n",
       "      <th>2672</th>\n",
       "      <td>1</td>\n",
       "      <td>受益于新药进展的江苏吴中；</td>\n",
       "    </tr>\n",
       "  </tbody>\n",
       "</table>\n",
       "</div>"
      ],
      "text/plain": [
       "       polarity_human                                            content\n",
       "744                 1                     通过一系列活动强化各部门的安全生产管理，重点抓好细节的管理。\n",
       "30062               0  海外上市的网络游戏公司PE(市盈率)只有10倍左右，同样是中国概念网络企业，却普遍低于互联网...\n",
       "19236               0                                而同期上证指数下跌幅度仅为0.99%。\n",
       "7238                0                                  (2)工艺技术风险导致长时间停车。\n",
       "2672                1                                      受益于新药进展的江苏吴中；"
      ]
     },
     "execution_count": 2,
     "metadata": {},
     "output_type": "execute_result"
    }
   ],
   "source": [
    "basic = os.getcwd().replace(\"/BiLSTM\", \"\")\n",
    "file_path = basic + \"/Data/简体30954条_3分类.csv\"\n",
    "w2v_path = basic + '/Data/WordEmbedding/Word60.model'\n",
    "stop_path = basic + \"/Data/dict/stopwords.txt\"\n",
    "stopwords = set(open(stop_path, \"r\").read().split(\"\\n\"))\n",
    "model = Word2Vec.load(w2v_path)\n",
    "data = pd.read_csv(file_path)\n",
    "data = data[data[\"polarity_human\"].isin([-1.0, 1.0])]\n",
    "data[\"polarity_human\"] = data[\"polarity_human\"].apply(lambda x: int((x + 1.0) / 2.0))\n",
    "data = pd.concat((data[data[\"polarity_human\"] == 0], \n",
    "                  data[data[\"polarity_human\"] == 1].iloc[:3267, :]), axis=0).sample(3267 * 2, random_state=999)\n",
    "data.head()"
   ]
  },
  {
   "cell_type": "code",
   "execution_count": 3,
   "metadata": {},
   "outputs": [],
   "source": [
    "def Createfeature(sentence):\n",
    "    words = jieba.lcut(sentence)\n",
    "    l = len(words)\n",
    "    feature = np.zeros((TIME_STEP, INPUT_SIZE))\n",
    "    for i in range(TIME_STEP):\n",
    "        if i < l:\n",
    "            word = words[i].lower()\n",
    "            if (word not in stopwords) and (word in model):\n",
    "                feature[i, :] = model[word]\n",
    "    return feature"
   ]
  },
  {
   "cell_type": "code",
   "execution_count": 4,
   "metadata": {},
   "outputs": [],
   "source": [
    "# Hyper Parameters\n",
    "EPOCH = 10               # train the training data n times\n",
    "BATCH_SIZE = 512\n",
    "HIDDEN_SIZE = 32\n",
    "TIME_STEP = 20         # rnn time step / image height\n",
    "INPUT_SIZE = 60         # rnn input size / image width\n",
    "LR = 0.1               # learning rate"
   ]
  },
  {
   "cell_type": "code",
   "execution_count": 5,
   "metadata": {},
   "outputs": [
    {
     "name": "stderr",
     "output_type": "stream",
     "text": [
      "Building prefix dict from the default dictionary ...\n",
      "Loading model from cache /var/folders/3b/wnl918tx4kj0flqblcc2_7500000gn/T/jieba.cache\n",
      "Loading model cost 0.785 seconds.\n",
      "Prefix dict has been built succesfully.\n",
      "/Library/Frameworks/Python.framework/Versions/3.7/lib/python3.7/site-packages/ipykernel_launcher.py:8: DeprecationWarning: Call to deprecated `__contains__` (Method will be removed in 4.0.0, use self.wv.__contains__() instead).\n",
      "  \n",
      "/Library/Frameworks/Python.framework/Versions/3.7/lib/python3.7/site-packages/ipykernel_launcher.py:9: DeprecationWarning: Call to deprecated `__getitem__` (Method will be removed in 4.0.0, use self.wv.__getitem__() instead).\n",
      "  if __name__ == '__main__':\n",
      "/Library/Frameworks/Python.framework/Versions/3.7/lib/python3.7/site-packages/sklearn/model_selection/_split.py:2069: FutureWarning: From version 0.21, test_size will always complement train_size unless both are specified.\n",
      "  FutureWarning)\n"
     ]
    },
    {
     "data": {
      "text/plain": [
       "(5227, 20, 60)"
      ]
     },
     "execution_count": 5,
     "metadata": {},
     "output_type": "execute_result"
    }
   ],
   "source": [
    "X = np.zeros((len(data), TIME_STEP, INPUT_SIZE))\n",
    "Y = data[\"polarity_human\"].values\n",
    "for j in range(len(data)):\n",
    "    X[j, :, :] = Createfeature(data.iloc[j, 1])\n",
    "train_x, valid_x, train_y, valid_y = train_test_split(X, Y, train_size=0.8, random_state=100)\n",
    "train_x.shape"
   ]
  },
  {
   "cell_type": "markdown",
   "metadata": {},
   "source": [
    "# 2. 模型训练"
   ]
  },
  {
   "cell_type": "code",
   "execution_count": 6,
   "metadata": {},
   "outputs": [],
   "source": [
    "import torch\n",
    "from torch import nn\n",
    "from torch.autograd import Variable\n",
    "from torch.utils.data.dataset import Dataset, TensorDataset"
   ]
  },
  {
   "cell_type": "code",
   "execution_count": 7,
   "metadata": {},
   "outputs": [
    {
     "data": {
      "text/plain": [
       "<torch._C.Generator at 0x11956bb50>"
      ]
     },
     "execution_count": 7,
     "metadata": {},
     "output_type": "execute_result"
    }
   ],
   "source": [
    "torch.manual_seed(999)    # reproducible"
   ]
  },
  {
   "cell_type": "code",
   "execution_count": 8,
   "metadata": {},
   "outputs": [],
   "source": [
    "# Data Loader for easy mini-batch return in training\n",
    "train_x, train_y = torch.from_numpy(train_x), torch.from_numpy(train_y)\n",
    "valid_x, valid_y = torch.from_numpy(valid_x), torch.from_numpy(valid_y)\n",
    "train_loader = torch.utils.data.DataLoader(dataset=TensorDataset(train_x, train_y), \n",
    "                                           batch_size=BATCH_SIZE, shuffle=True)"
   ]
  },
  {
   "cell_type": "code",
   "execution_count": 9,
   "metadata": {},
   "outputs": [],
   "source": [
    "# Device configuration\n",
    "device = torch.device('cuda' if torch.cuda.is_available() else 'cpu')\n",
    "\n",
    "class BiRNN(nn.Module):\n",
    "    \n",
    "    def __init__(self, hidden_size=HIDDEN_SIZE, num_layers=3, num_classes=2):\n",
    "        super(BiRNN, self).__init__()\n",
    "        self.hidden_size = hidden_size\n",
    "        self.num_layers = num_layers\n",
    "        self.lstm = nn.LSTM(INPUT_SIZE, hidden_size, num_layers, batch_first=True, bidirectional=True)\n",
    "        self.fc = nn.Linear(hidden_size*2, num_classes)  # 2 for bidirection\n",
    "    \n",
    "    def forward(self, x):\n",
    "        # Set initial states\n",
    "        h0 = torch.zeros(self.num_layers*2, x.size(0), self.hidden_size).to(device) # 2 for bidirection \n",
    "        c0 = torch.zeros(self.num_layers*2, x.size(0), self.hidden_size).to(device)\n",
    "        \n",
    "        # Forward propagate LSTM\n",
    "        out, _ = self.lstm(x, (h0, c0))  # out: tensor of shape (batch_size, seq_length, hidden_size*2)\n",
    "        \n",
    "        # Decode the hidden state of the last time step\n",
    "        out = self.fc(out[:, -1, :])\n",
    "        return out"
   ]
  },
  {
   "cell_type": "code",
   "execution_count": 10,
   "metadata": {},
   "outputs": [
    {
     "name": "stdout",
     "output_type": "stream",
     "text": [
      "BiRNN(\n",
      "  (lstm): LSTM(60, 32, num_layers=3, batch_first=True, bidirectional=True)\n",
      "  (fc): Linear(in_features=64, out_features=2, bias=True)\n",
      ")\n"
     ]
    }
   ],
   "source": [
    "rnn = BiRNN()\n",
    "print(rnn)"
   ]
  },
  {
   "cell_type": "code",
   "execution_count": 11,
   "metadata": {},
   "outputs": [],
   "source": [
    "optimizer = torch.optim.Adam(rnn.parameters(), lr=LR)   # optimize all rnn parameters\n",
    "loss_func = nn.CrossEntropyLoss()"
   ]
  },
  {
   "cell_type": "code",
   "execution_count": 12,
   "metadata": {},
   "outputs": [
    {
     "name": "stdout",
     "output_type": "stream",
     "text": [
      "Epoch:  0 | train loss: 0.6910 | valid loss: 1.0968 | train accuracy: 0.5026 | valid accuracy: 0.4897\n",
      "Epoch:  1 | train loss: 0.6725 | valid loss: 0.6630 | train accuracy: 0.6076 | valid accuracy: 0.6098\n",
      "Epoch:  2 | train loss: 0.6342 | valid loss: 0.6104 | train accuracy: 0.7404 | valid accuracy: 0.7253\n",
      "Epoch:  3 | train loss: 0.4552 | valid loss: 0.5013 | train accuracy: 0.7806 | valid accuracy: 0.7544\n",
      "Epoch:  4 | train loss: 0.3950 | valid loss: 0.4525 | train accuracy: 0.8443 | valid accuracy: 0.8103\n",
      "Epoch:  5 | train loss: 0.3421 | valid loss: 0.4325 | train accuracy: 0.8684 | valid accuracy: 0.8202\n",
      "Epoch:  6 | train loss: 0.3704 | valid loss: 0.4483 | train accuracy: 0.8680 | valid accuracy: 0.8026\n",
      "Epoch:  7 | train loss: 0.2800 | valid loss: 0.4193 | train accuracy: 0.8915 | valid accuracy: 0.8202\n",
      "Epoch:  8 | train loss: 0.2958 | valid loss: 0.3940 | train accuracy: 0.9154 | valid accuracy: 0.8271\n",
      "Epoch:  9 | train loss: 0.2756 | valid loss: 0.4272 | train accuracy: 0.9227 | valid accuracy: 0.8309\n"
     ]
    },
    {
     "data": {
      "text/plain": [
       "<matplotlib.legend.Legend at 0x1207593c8>"
      ]
     },
     "execution_count": 12,
     "metadata": {},
     "output_type": "execute_result"
    },
    {
     "data": {
      "image/png": "[encoded data removed]",
      "text/plain": [
       "<Figure size 864x360 with 2 Axes>"
      ]
     },
     "metadata": {
      "needs_background": "light"
     },
     "output_type": "display_data"
    }
   ],
   "source": [
    "train_losses = []\n",
    "valid_losses = []\n",
    "train_accuracy = []\n",
    "valid_accuracy = []\n",
    "f = plt.figure(figsize=(12, 5))\n",
    "ax1 = f.add_subplot(121)\n",
    "ax2 = f.add_subplot(122)\n",
    "\n",
    "# training and testing\n",
    "for epoch in range(EPOCH):\n",
    "    for step, (x, y) in enumerate(train_loader):        # gives batch data\n",
    "        b_x = Variable(x.float())                       # batch x\n",
    "        b_y = Variable(y.long())                        # batch y\n",
    "        output = rnn(b_x)                               # rnn output\n",
    "        loss = loss_func(output, b_y)                   # cross entropy loss\n",
    "        optimizer.zero_grad()                           # clear gradients for this training step\n",
    "        loss.backward()                                 # backpropagation, compute gradients\n",
    "        optimizer.step()                                # apply gradients\n",
    "\n",
    "        if step % 100 == 0:\n",
    "            valid_output = rnn(Variable(valid_x.float()))\n",
    "            train_output = rnn(Variable(train_x.float()))\n",
    "            train_loss = loss_func(train_output, train_y.long())\n",
    "            valid_loss = loss_func(valid_output, valid_y.long())\n",
    "            train_losses.append(train_loss.data)\n",
    "            valid_losses.append(valid_loss.data)\n",
    "            \n",
    "            pred_train = torch.max(train_output, 1)[1].data.numpy().squeeze()\n",
    "            pred_valid = torch.max(valid_output, 1)[1].data.numpy().squeeze()\n",
    "            train_accu = sum(pred_train == train_y.data.numpy()) / float(train_y.numpy().size)\n",
    "            valid_accu = sum(pred_valid == valid_y.data.numpy()) / float(valid_y.numpy().size)\n",
    "            train_accuracy.append(train_accu)\n",
    "            valid_accuracy.append(valid_accu)\n",
    "            \n",
    "            print('Epoch: ', epoch, '| train loss: %.4f' % loss.data, '| valid loss: %.4f' % valid_loss.data, \n",
    "                  '| train accuracy: %.4f' % train_accu, '| valid accuracy: %.4f' % valid_accu)\n",
    "\n",
    "ax1.plot(train_losses, label=\"train loss\")\n",
    "ax1.plot(valid_losses, label=\"valid loss\")\n",
    "ax1.legend()\n",
    "ax2.plot(train_accuracy, label=\"train acc\")\n",
    "ax2.plot(valid_accuracy, label=\"valid acc\")\n",
    "ax2.legend()"
   ]
  },
  {
   "cell_type": "code",
   "execution_count": 13,
   "metadata": {},
   "outputs": [
    {
     "data": {
      "text/plain": [
       "(array([1, 0, 0, 1, 1, 1, 0, 1, 1, 1]), tensor([1, 0, 0, 1, 1, 1, 0, 1, 1, 1]))"
      ]
     },
     "execution_count": 13,
     "metadata": {},
     "output_type": "execute_result"
    }
   ],
   "source": [
    "# print 10 predictions from test data\n",
    "valid_output = rnn(Variable(valid_x.float()))\n",
    "pred_y = torch.max(valid_output, 1)[1].data.numpy().squeeze()\n",
    "pred_y[:10], valid_y[:10]"
   ]
  },
  {
   "cell_type": "code",
   "execution_count": null,
   "metadata": {},
   "outputs": [],
   "source": []
  }
 ],
 "metadata": {
  "kernelspec": {
   "display_name": "Python 3",
   "language": "python",
   "name": "python3"
  },
  "language_info": {
   "codemirror_mode": {
    "name": "ipython",
    "version": 3
   },
   "file_extension": ".py",
   "mimetype": "text/x-python",
   "name": "python",
   "nbconvert_exporter": "python",
   "pygments_lexer": "ipython3",
   "version": "3.7.1"
  }
 },
 "nbformat": 4,
 "nbformat_minor": 2
}
