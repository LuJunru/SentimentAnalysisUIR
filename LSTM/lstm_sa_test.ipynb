{
 "cells": [
  {
   "cell_type": "code",
   "execution_count": 1,
   "metadata": {},
   "outputs": [
    {
     "name": "stderr",
     "output_type": "stream",
     "text": [
      "Using TensorFlow backend.\n"
     ]
    }
   ],
   "source": [
    "import yaml\n",
    "import os\n",
    "import jieba\n",
    "import numpy as np\n",
    "from gensim.models.word2vec import Word2Vec\n",
    "from gensim.corpora.dictionary import Dictionary\n",
    "from keras.preprocessing import sequence\n",
    "from keras.models import model_from_yaml\n",
    "\n",
    "import sys\n",
    "sys.setrecursionlimit(1000000)"
   ]
  },
  {
   "cell_type": "code",
   "execution_count": 2,
   "metadata": {},
   "outputs": [],
   "source": [
    "# define parameters\n",
    "np.random.seed(1337)  # For Reproducibility\n",
    "input_length = 100\n",
    "basic_path = os.getcwd().replace(\"/LSTM\", \"\")\n",
    "w2v_path = basic_path + '/Data/WordEmbedding/Word60.model'"
   ]
  },
  {
   "cell_type": "code",
   "execution_count": 3,
   "metadata": {},
   "outputs": [],
   "source": [
    "# 创建词语字典，并返回每个词语的索引，词向量，以及每个句子所对应的词语索引\n",
    "def create_dictionaries(w2indx=None, combined=None):\n",
    "    if (combined is not None) and (w2indx is not None):\n",
    "        def parse_dataset(combined):\n",
    "            \"\"\"\n",
    "            :intro: Words become integers\n",
    "            :param combined:\n",
    "            :return:\n",
    "            \"\"\"\n",
    "            data = []\n",
    "            for sentence in combined:\n",
    "                new_txt = []\n",
    "                for word in sentence:\n",
    "                    try:\n",
    "                        new_txt.append(w2indx[word])\n",
    "                    except:\n",
    "                        new_txt.append(0)  # freq < 10->0\n",
    "                data.append(new_txt)\n",
    "            return data\n",
    "        n_combined = parse_dataset(combined)\n",
    "        n_combined = sequence.pad_sequences(n_combined, maxlen=input_length)  # 每个句子所含词语对应的索引，所以句子中含有频数小于10的词语，索引为0\n",
    "        return n_combined\n",
    "    else:\n",
    "        print('No data provided...')"
   ]
  },
  {
   "cell_type": "code",
   "execution_count": 4,
   "metadata": {},
   "outputs": [],
   "source": [
    "def input_transform(string):\n",
    "    words = jieba.lcut(string)\n",
    "    words = np.array(words).reshape(1, -1)\n",
    "    model = Word2Vec.load(w2v_path)\n",
    "    gensim_dict = Dictionary()\n",
    "    gensim_dict.doc2bow(model.wv.vocab.keys(), allow_update=True)\n",
    "    w2indx = {v: k + 1 for k, v in gensim_dict.items()}  # 词语的索引,(k->v)=>(v->k)\n",
    "    combined = create_dictionaries(w2indx, words)\n",
    "    return combined"
   ]
  },
  {
   "cell_type": "code",
   "execution_count": 5,
   "metadata": {},
   "outputs": [],
   "source": [
    "def lstm_predict(model, strings):\n",
    "    data = input_transform(strings[0]).reshape(1, -1)\n",
    "    for string in strings[1:]:\n",
    "        data = np.vstack((data, input_transform(string).reshape(1, -1)))\n",
    "    result = model.predict(data)\n",
    "    return np.column_stack((result, np.array(strings).reshape(-1, 1)))"
   ]
  },
  {
   "cell_type": "code",
   "execution_count": 6,
   "metadata": {},
   "outputs": [
    {
     "name": "stdout",
     "output_type": "stream",
     "text": [
      "loading model......\n",
      "WARNING:tensorflow:From /Library/Frameworks/Python.framework/Versions/3.7/lib/python3.7/site-packages/tensorflow/python/framework/op_def_library.py:263: colocate_with (from tensorflow.python.framework.ops) is deprecated and will be removed in a future version.\n",
      "Instructions for updating:\n",
      "Colocations handled automatically by placer.\n"
     ]
    },
    {
     "name": "stderr",
     "output_type": "stream",
     "text": [
      "/Library/Frameworks/Python.framework/Versions/3.7/lib/python3.7/site-packages/ipykernel_launcher.py:4: YAMLLoadWarning: calling yaml.load() without Loader=... is deprecated, as the default Loader is unsafe. Please read https://msg.pyyaml.org/load for full details.\n",
      "  after removing the cwd from sys.path.\n"
     ]
    },
    {
     "name": "stdout",
     "output_type": "stream",
     "text": [
      "WARNING:tensorflow:From /Library/Frameworks/Python.framework/Versions/3.7/lib/python3.7/site-packages/keras/backend/tensorflow_backend.py:3733: calling dropout (from tensorflow.python.ops.nn_ops) with keep_prob is deprecated and will be removed in a future version.\n",
      "Instructions for updating:\n",
      "Please use `rate` instead of `keep_prob`. Rate should be set to `rate = 1 - keep_prob`.\n",
      "loading weights......\n"
     ]
    },
    {
     "name": "stderr",
     "output_type": "stream",
     "text": [
      "Building prefix dict from the default dictionary ...\n",
      "Loading model from cache /var/folders/3b/wnl918tx4kj0flqblcc2_7500000gn/T/jieba.cache\n",
      "Loading model cost 0.705 seconds.\n",
      "Prefix dict has been built succesfully.\n"
     ]
    },
    {
     "name": "stdout",
     "output_type": "stream",
     "text": [
      "[['0.21685864' '0.5698471' '0.21329418' '酒店的环境非常好，价格也便宜，值得推荐']\n",
      " ['0.49362674' '0.27460548' '0.2317678' '手机质量太差了，傻逼店家，赚黑心钱，以后再也不会买了']\n",
      " ['0.5698782' '0.21473244' '0.21538934'\n",
      "  '这是我看过文字写得很糟糕的书，因为买了，还是耐着性子看完了，但是总体来说不好，文字、内容、结构都不好']\n",
      " ['0.57405657' '0.21310414' '0.21283934' '虽说是职场指导书，但是写的有点干涩，我读一半就看不下去了！']\n",
      " ['0.57606506' '0.2119655' '0.21196936'\n",
      "  '书的质量还好，但是内容实在没意思。本以为会侧重心理方面的分析，但实际上是婚外恋内容。']\n",
      " ['0.3415032' '0.33870253' '0.3197943' '不是太好']\n",
      " ['0.21487269' '0.56818604' '0.21694127' '不错不错']\n",
      " ['0.5677959' '0.21764909' '0.21455511' '真的一般，没什么可以学习的']]\n"
     ]
    }
   ],
   "source": [
    "if __name__ == \"__main__\":\n",
    "    print('loading model......')\n",
    "    with open(basic_path + '/LSTM/lstm.yml', 'r') as f:\n",
    "        yaml_string = yaml.load(f)\n",
    "    model = model_from_yaml(yaml_string)\n",
    "\n",
    "    print('loading weights......')\n",
    "    model.load_weights(basic_path + '/LSTM/lstm.h5')\n",
    "    model.compile(loss='categorical_crossentropy', optimizer='adam', metrics=['accuracy'])\n",
    "    strings = ['酒店的环境非常好，价格也便宜，值得推荐',\n",
    "               '手机质量太差了，傻逼店家，赚黑心钱，以后再也不会买了',\n",
    "               \"这是我看过文字写得很糟糕的书，因为买了，还是耐着性子看完了，但是总体来说不好，文字、内容、结构都不好\",\n",
    "               \"虽说是职场指导书，但是写的有点干涩，我读一半就看不下去了！\",\n",
    "               \"书的质量还好，但是内容实在没意思。本以为会侧重心理方面的分析，但实际上是婚外恋内容。\",\n",
    "               \"不是太好\",\n",
    "               \"不错不错\",\n",
    "               \"真的一般，没什么可以学习的\"]\n",
    "    print(lstm_predict(model, strings))"
   ]
  },
  {
   "cell_type": "markdown",
   "metadata": {},
   "source": [
    "- 'Neural概率', 'Positive概率', 'Negative概率', \"句子\""
   ]
  },
  {
   "cell_type": "code",
   "execution_count": null,
   "metadata": {},
   "outputs": [],
   "source": []
  }
 ],
 "metadata": {
  "kernelspec": {
   "display_name": "Python 3",
   "language": "python",
   "name": "python3"
  },
  "language_info": {
   "codemirror_mode": {
    "name": "ipython",
    "version": 3
   },
   "file_extension": ".py",
   "mimetype": "text/x-python",
   "name": "python",
   "nbconvert_exporter": "python",
   "pygments_lexer": "ipython3",
   "version": "3.7.1"
  }
 },
 "nbformat": 4,
 "nbformat_minor": 2
}
