{
 "cells": [
  {
   "cell_type": "code",
   "execution_count": 1,
   "metadata": {},
   "outputs": [
    {
     "name": "stderr",
     "output_type": "stream",
     "text": [
      "Using TensorFlow backend.\n"
     ]
    }
   ],
   "source": [
    "import yaml\n",
    "import os\n",
    "import pandas as pd\n",
    "from keras.models import model_from_yaml\n",
    "from LSTM.lstm_sa_test import lstm_predict"
   ]
  },
  {
   "cell_type": "code",
   "execution_count": 2,
   "metadata": {},
   "outputs": [
    {
     "name": "stdout",
     "output_type": "stream",
     "text": [
      "loading model......\n",
      "WARNING:tensorflow:From /Library/Frameworks/Python.framework/Versions/3.7/lib/python3.7/site-packages/tensorflow/python/framework/op_def_library.py:263: colocate_with (from tensorflow.python.framework.ops) is deprecated and will be removed in a future version.\n",
      "Instructions for updating:\n",
      "Colocations handled automatically by placer.\n"
     ]
    },
    {
     "name": "stderr",
     "output_type": "stream",
     "text": [
      "/Library/Frameworks/Python.framework/Versions/3.7/lib/python3.7/site-packages/ipykernel_launcher.py:4: YAMLLoadWarning: calling yaml.load() without Loader=... is deprecated, as the default Loader is unsafe. Please read https://msg.pyyaml.org/load for full details.\n",
      "  after removing the cwd from sys.path.\n"
     ]
    },
    {
     "name": "stdout",
     "output_type": "stream",
     "text": [
      "WARNING:tensorflow:From /Library/Frameworks/Python.framework/Versions/3.7/lib/python3.7/site-packages/keras/backend/tensorflow_backend.py:3733: calling dropout (from tensorflow.python.ops.nn_ops) with keep_prob is deprecated and will be removed in a future version.\n",
      "Instructions for updating:\n",
      "Please use `rate` instead of `keep_prob`. Rate should be set to `rate = 1 - keep_prob`.\n",
      "loading weights......\n"
     ]
    }
   ],
   "source": [
    "basic_path = os.getcwd()\n",
    "print('loading model......')\n",
    "with open(basic_path + '/LSTM/lstm.yml', 'r') as f:\n",
    "    yaml_string = yaml.load(f)\n",
    "model = model_from_yaml(yaml_string)\n",
    "print('loading weights......')\n",
    "model.load_weights(basic_path + '/LSTM/lstm.h5')\n",
    "model.compile(loss='categorical_crossentropy', optimizer='adam', metrics=['accuracy'])"
   ]
  },
  {
   "cell_type": "code",
   "execution_count": 3,
   "metadata": {},
   "outputs": [],
   "source": [
    "def Lstm(strings):\n",
    "    return lstm_predict(model, strings)"
   ]
  },
  {
   "cell_type": "code",
   "execution_count": 4,
   "metadata": {},
   "outputs": [],
   "source": [
    "class SentimentAnalysis:\n",
    "    def __init__(self, articles):\n",
    "        self.articles = articles\n",
    "        self.weights = [1.0, 0.6, 0.5, 0.4, 0.3]\n",
    "\n",
    "    def evaluate(self, article):\n",
    "        evaluations = {}\n",
    "        paragraphs = article.split(\"\\n\\n\\n\")\n",
    "        for i, paragraph in enumerate(paragraphs):\n",
    "            if i == 0:\n",
    "                evaluations[paragraph] = self.weights[0]\n",
    "            else:\n",
    "                sentences = paragraph.split(\"\\n\")\n",
    "                for j, sentence in enumerate(sentences):\n",
    "                    if i == 1:\n",
    "                        if j == 0:\n",
    "                            evaluations[sentence] = self.weights[1]\n",
    "                        else:\n",
    "                            evaluations[sentence] = self.weights[2]\n",
    "                    else:\n",
    "                        if j == 0:\n",
    "                            evaluations[sentence] = self.weights[3]\n",
    "                        else:\n",
    "                            evaluations[sentence] = self.weights[4]\n",
    "        scores = pd.DataFrame(lstm_predict(model, list(evaluations.keys())))\n",
    "        print(scores)\n",
    "        scores[\"weights\"] = scores.iloc[:, 3].apply(lambda x: evaluations[x])\n",
    "        scores[\"Neural\"] = scores.iloc[:, 0].astype('float') * scores[\"weights\"]\n",
    "        scores[\"Positive\"] = scores.iloc[:, 1].astype('float') * scores[\"weights\"]\n",
    "        scores[\"Negtive\"] = scores.iloc[:, 2].astype('float') * scores[\"weights\"]\n",
    "        return scores[[\"Neural\", \"Positive\", \"Negtive\"]].mean(axis=0)\n",
    "\n",
    "    def score(self, ouput_file):\n",
    "        w = open(ouput_file, \"w\")\n",
    "        for article in self.articles:\n",
    "            results = self.evaluate(article)\n",
    "            score = results[results == results.max()]\n",
    "            w.write(str(score.index[0]) + \"\\n\")\n",
    "        w.close()"
   ]
  },
  {
   "cell_type": "code",
   "execution_count": 5,
   "metadata": {},
   "outputs": [
    {
     "name": "stderr",
     "output_type": "stream",
     "text": [
      "Building prefix dict from the default dictionary ...\n",
      "Loading model from cache /var/folders/3b/wnl918tx4kj0flqblcc2_7500000gn/T/jieba.cache\n",
      "Loading model cost 0.861 seconds.\n",
      "Prefix dict has been built succesfully.\n"
     ]
    },
    {
     "name": "stdout",
     "output_type": "stream",
     "text": [
      "             0           1           2  \\\n",
      "0    0.5759844  0.21202034  0.21199524   \n",
      "1    0.5628386  0.22241902   0.2147424   \n",
      "2   0.57604903  0.21196726   0.2119837   \n",
      "3   0.57494473  0.21284443  0.21221085   \n",
      "4    0.5747367  0.21290222  0.21236108   \n",
      "5   0.57555026  0.21225299  0.21219677   \n",
      "6     0.509064   0.2549494  0.23598662   \n",
      "7    0.5614334  0.21775395  0.22081266   \n",
      "8   0.57604825   0.2119691  0.21198271   \n",
      "9   0.57594174  0.21203372  0.21202454   \n",
      "10   0.5759329  0.21204714  0.21201998   \n",
      "11  0.56749964  0.21748008  0.21502027   \n",
      "12  0.57588446  0.21203122  0.21208435   \n",
      "13   0.5759903    0.211998  0.21201168   \n",
      "14   0.5760611  0.21196635  0.21197252   \n",
      "15   0.5760279  0.21198533  0.21198678   \n",
      "16  0.21349292    0.574037   0.2124701   \n",
      "17   0.5758843  0.21201088   0.2121049   \n",
      "\n",
      "                                                    3  \n",
      "0                               特朗普想买下格陵兰岛，丹麦回应：开玩笑吧？  \n",
      "1   【环球网报道 见习记者 张晓雅】美国总统特朗普15日被曝有意购买下世界最大的岛——格陵兰岛后...  \n",
      "2   路透社当日报道称，丹麦政界人士对于特朗普这一“奢侈”的想法可以说是不屑一顾、嗤之以鼻，有人甚...  \n",
      "3        格陵兰岛为世界最大岛，位于北冰洋和大西洋之间，全境大部分位于北极圈内，是丹麦的自治领土。  \n",
      "4       路透社15日报道称，当天，美国《华尔街日报》援引知情人士消息，最先曝出特朗普有意收购该岛。  \n",
      "5                           随后，丹麦多位政界人士表态，美国这一想法实属好笑。  \n",
      "6                              这其中，有丹麦前首相拉尔斯·勒克·拉斯穆森。  \n",
      "7                         他当天发推说：“这一定是愚人节的玩笑。完全不合时宜!”  \n",
      "8   丹麦人民党外交事务发言人也对丹麦广播公司“DR”表示：“丹麦向美国出售5万名公民的想法完全是...  \n",
      "9                                          表态的还有丹麦议员。  \n",
      "10  格陵兰岛第二大政党因纽特人党女议员阿佳·开姆尼茨·拉森(Aaja Chemnitz Lars...  \n",
      "11                                          甚至还有美国大使。  \n",
      "12  前美国驻丹麦大使鲁弗斯﹒吉福德(Rufus Gifford)在推特上说：“哦亲爱的上帝。作为...  \n",
      "13  路透社称，目前，丹麦首相梅特·弗雷德里克森和外交大臣耶珀·科弗德并未置评，但官员们表示，他们...  \n",
      "14       报道称，目前，还没有迹象表明，特朗普将购买格陵兰岛这一提议纳入到与丹麦官员商讨的议程中。  \n",
      "15    但丹麦社会自由党议员、前外交大臣马丁利德高称，这一想法是“一个荒唐的提议”，没有任何现实依据。  \n",
      "16  他对路透表示：“我们谈论的是实实在在的人民，你不能像过去的殖民大国那样出售格陵兰岛。”利德高...  \n",
      "17  路透社介绍称，1917年，丹麦曾以2500万美元的价格将当时隶属下的西印度群岛出售给美国，美...  \n",
      "             0           1           2  \\\n",
      "0   0.56783074  0.21554567  0.21662359   \n",
      "1   0.57551837  0.21211934  0.21236227   \n",
      "2    0.5751939  0.21253616  0.21226993   \n",
      "3    0.5760457  0.21198064  0.21197361   \n",
      "4    0.5757687  0.21202286  0.21220848   \n",
      "5   0.56018084  0.21752244  0.22229674   \n",
      "6    0.5759513   0.2119995  0.21204923   \n",
      "7   0.57567936  0.21208419  0.21223646   \n",
      "8    0.5640379  0.21637994   0.2195821   \n",
      "9    0.5694562  0.21367721  0.21686655   \n",
      "10  0.56177837  0.21672128  0.22150034   \n",
      "11   0.5760456  0.21197744  0.21197703   \n",
      "12   0.5759372  0.21198796  0.21207489   \n",
      "13  0.57484305  0.21283962  0.21231733   \n",
      "14  0.57585305  0.21200402  0.21214294   \n",
      "15   0.5619311  0.21670562  0.22136328   \n",
      "16   0.5659615   0.2156518  0.21838674   \n",
      "17  0.57416564  0.21295406   0.2128804   \n",
      "18   0.2170557   0.5696566  0.21328768   \n",
      "19    0.547355   0.2198547  0.23279028   \n",
      "20   0.5758197  0.21201544  0.21216483   \n",
      "21   0.5628898  0.21604294  0.22106735   \n",
      "22  0.56387293  0.21570376  0.22042333   \n",
      "23  0.57606506  0.21196198  0.21197294   \n",
      "24   0.5758944  0.21209069  0.21201487   \n",
      "\n",
      "                                                    3  \n",
      "0                             违规登山遇险 四川四姑娘山开出首张有偿救援罚单  \n",
      "1          央广网成都8月16日消息（记者刘涛）近日，广东籍男子周某违规穿越四川四姑娘山后失联。  \n",
      "2                    四姑娘山景区联合小金县当地警方，经过36个小时成功将该男子救出。  \n",
      "3             昨天（15日），四姑娘山景区也根据相关规定，开出了首张3000元有偿救援罚单。  \n",
      "4       8月13日，四姑娘山景区接到电话称，有广东籍一男子周某在四姑娘山自然保护区失联，请求救援。  \n",
      "5   参与救援的四姑娘山户外运动管理中心主任杨伟太介绍说，失联男子的家属打不通电话，给阿坝州公安报...  \n",
      "6    接到报警后，四姑娘山景区管理局联合小金县警方，先后派出4批共30多名专业的户外救援人员上山搜救。  \n",
      "7        经过36小时努力，8月14日下午4时过，搜救人员在四姑娘山的一个流沙口下发现了被困男子。  \n",
      "8   杨伟太说，最初发现该男子的是一名放牛的牧人，那时男子已经陷入昏迷的状态，“发现这个人的时候，...  \n",
      "9                                   幸运的是，该男子全身骨骼没有受伤。  \n",
      "10  杨伟太说，救援人员想尽各种办法，将该男子送下山，“经过检查以后，发现他身上的骨骼骨头都没有什...  \n",
      "11                     从发现该男子，到送该男子下山，救援人员用了5个多小时的时间。  \n",
      "12    在8月14日当天晚上9时过，受伤男子被送下山到就近医院治疗。由于搜救及时，该男子没有生命危险。  \n",
      "13  据警方调查，周某是广东深圳人，独自一人来到四姑娘山，并在8月12日凌晨5时趁景区管理人员未上...  \n",
      "14  上山后不久，周某便在山坡上跌倒受伤，该处没有电话信号，家里父母联系不上他，才向阿坝州公安局报...  \n",
      "15  四姑娘山景区法规处处长杨清培介绍说，该男子因为违规穿越四姑娘山，被四姑娘山景区开出了两张罚单...  \n",
      "16  杨清培说，另外一张3000元的有偿救援罚单，是根据去年9月出台《山地户外运动突发事件有偿救援...  \n",
      "17            参与救援的四姑娘山户外运动管理中心主任杨伟太说，户外运动本身就具有一定危险性。  \n",
      "18  这些年随着大众生活水平提高，越来越多的年轻人加入到户外运动中来，四姑娘山因为特殊的地形、地貌...  \n",
      "19  “这本身是好事，如果这些户外运动爱好者选择正规的户外俱乐部或者公司，我们不仅会让他实名登记，...  \n",
      "20            遗憾的是，尽管媒体多次报道违规穿越自然保护区的危险，还是有不少人选择铤而走险。  \n",
      "21  杨伟太介绍说，一旦户外遇险，就需要大量人力投入搜救，搜救物资大多靠人背马驼，会产生大量的费用...  \n",
      "22  据杨伟太介绍，以前他们参与救援都是无偿的，也遇到不少救人后没法收钱的尴尬，“那时候觉得救人要...  \n",
      "23  据了解，这次广东男子违规穿越四姑娘山，收到的3000元的罚单，是综合了违规穿越四姑娘山所产生...  \n",
      "24  相关户外专业人士提醒，户外运动尽量选择正规户外俱乐部，违规穿越不仅给自身带来巨大的安全隐患，...  \n"
     ]
    }
   ],
   "source": [
    "if __name__ == \"__main__\":\n",
    "    articles = open(basic_path + \"/Data/Test.txt\", \"r\").read().split(\"\\n\\n\\n\\n\")\n",
    "    sentiment = SentimentAnalysis(articles)\n",
    "    sentiment.score(basic_path + \"/Data/Test_classification.txt\")"
   ]
  },
  {
   "cell_type": "code",
   "execution_count": null,
   "metadata": {},
   "outputs": [],
   "source": []
  }
 ],
 "metadata": {
  "kernelspec": {
   "display_name": "Python 3",
   "language": "python",
   "name": "python3"
  },
  "language_info": {
   "codemirror_mode": {
    "name": "ipython",
    "version": 3
   },
   "file_extension": ".py",
   "mimetype": "text/x-python",
   "name": "python",
   "nbconvert_exporter": "python",
   "pygments_lexer": "ipython3",
   "version": "3.7.1"
  }
 },
 "nbformat": 4,
 "nbformat_minor": 2
}
